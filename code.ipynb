{
 "cells": [
  {
   "cell_type": "code",
   "execution_count": null,
   "id": "7f22b344-14dd-4688-bd06-66ad66235ab7",
   "metadata": {},
   "outputs": [],
   "source": [
    "import sys\n",
    "print(sys.executable)\n",
    "print(sys.version)\n",
    "print(sys.version_info)"
   ]
  },
  {
   "cell_type": "code",
   "execution_count": null,
   "id": "91e6e92e-f1d1-445b-966a-b7aea07c764e",
   "metadata": {},
   "outputs": [],
   "source": [
    "import sklearn\n",
    "import imblearn\n",
    "import xgboost\n",
    "import shap\n",
    "import joblib\n",
    "print(sklearn.__version__)\n",
    "print(joblib.__version__)\n",
    "print(imblearn.__version__)\n",
    "print(xgboost.__version__)\n",
    "print(shap.__version__)"
   ]
  },
  {
   "cell_type": "code",
   "execution_count": null,
   "id": "7d278d13-4826-4e29-812d-4a9d791f8333",
   "metadata": {},
   "outputs": [],
   "source": [
    "import pandas as pd\n",
    "import numpy as np\n",
    "from sklearn.preprocessing import StandardScaler\n",
    "from sklearn.model_selection import train_test_split\n",
    "import matplotlib.pyplot as plt\n",
    "import matplotlib\n",
    "import seaborn as sns\n",
    "from sklearn.base import clone\n",
    "import shap\n",
    "import re\n",
    "from sklearn.metrics import confusion_matrix, classification_report,roc_auc_score, roc_curve, auc,precision_recall_curve,brier_score_loss\n",
    "from imblearn.over_sampling import ADASYN\n",
    "from sklearn.ensemble import RandomForestClassifier,AdaBoostClassifier,GradientBoostingClassifier\n",
    "from xgboost import XGBClassifier\n",
    "from sklearn.svm import SVC, NuSVC\n",
    "from sklearn.pipeline import Pipeline\n",
    "from sklearn.compose import ColumnTransformer\n",
    "from sklearn.model_selection import GridSearchCV,RandomizedSearchCV\n",
    "from matplotlib.colors import LinearSegmentedColormap\n",
    "from sklearn.calibration import calibration_curve\n",
    "from statkit.decision import NetBenefitDisplay\n",
    "%matplotlib inline\n",
    "import rpy2.robjects as ro\n",
    "import numpy as np\n",
    "from rpy2.robjects.numpy2ri import activate, numpy2rpy\n",
    "activate()\n",
    "ro.r('library(pROC)')\n",
    "ro.r('''\n",
    "    calc_auc_ci <- function(y_true, y_scores) {\n",
    "        roc_obj <- roc(y_true, y_scores)\n",
    "        ci(roc_obj)\n",
    "    }\n",
    "''')"
   ]
  },
  {
   "cell_type": "code",
   "execution_count": null,
   "id": "67acc10d-f4dd-4c02-a23d-03c223ee2b59",
   "metadata": {},
   "outputs": [],
   "source": [
    "guangzhou=pd.read_excel('OneDrive - Lightning Life/data/clean_data_20220516.xlsx')\n",
    "beijing=pd.read_excel('OneDrive - Lightning Life/data/Beijing_20220518.xlsx')\n",
    "foreign=pd.read_excel('OneDrive - Lightning Life/data/foreign.xlsx')\n",
    "xia=pd.read_excel('OneDrive - Lightning Life/data/xia_t.xlsx')"
   ]
  }
 ],
 "metadata": {
  "kernelspec": {
   "display_name": "Python 3 (ipykernel)",
   "language": "python",
   "name": "python3"
  },
  "language_info": {
   "codemirror_mode": {
    "name": "ipython",
    "version": 3
   },
   "file_extension": ".py",
   "mimetype": "text/x-python",
   "name": "python",
   "nbconvert_exporter": "python",
   "pygments_lexer": "ipython3",
   "version": "3.12.2"
  }
 },
 "nbformat": 4,
 "nbformat_minor": 5
}
